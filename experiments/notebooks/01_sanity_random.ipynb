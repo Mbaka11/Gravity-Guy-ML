{
 "cells": [
  {
   "cell_type": "markdown",
   "id": "2236516d",
   "metadata": {},
   "source": [
    "# Sanity Rollouts — Random vs Tiny Heuristic (GGEnv v2)\n",
    "\n",
    "**Goal.** Validate that our environment and observations are sane by comparing:\n",
    "- a **Random** policy (uniform over {NOOP, FLIP})\n",
    "- a **Tiny Heuristic** (flip only when near-lane is immediately dangerous and target lane looks safe)\n",
    "\n",
    "We:\n",
    "1. (Optionally) run rollouts to generate fresh results.\n",
    "2. Load `experiments/runs/episodes.csv`.\n",
    "3. Check basic data integrity.\n",
    "4. Compare metrics: distance, episode length, death causes.\n",
    "5. Do a seed-paired comparison (does heuristic consistently beat random?).\n",
    "6. Summarize findings and next steps.\n",
    "\n",
    "*Environment:* GGEnv v2, Observation v2 (15-dim), frame_skip=4 by default.\n"
   ]
  },
  {
   "cell_type": "code",
   "execution_count": null,
   "id": "72507548",
   "metadata": {},
   "outputs": [
    {
     "name": "stdout",
     "output_type": "stream",
     "text": [
      "Project root: d:\\Projects\\GravityGuyML\\experiments\\notebooks\n",
      "Runs dir: d:\\Projects\\GravityGuyML\\experiments\\notebooks\\experiments\\runs\n",
      "Episodes CSV exists: False\n"
     ]
    }
   ],
   "source": [
    "import os, sys, math\n",
    "from pathlib import Path\n",
    "import numpy as np\n",
    "import pandas as pd\n",
    "import matplotlib.pyplot as plt\n",
    "\n",
    "# Paths\n",
    "PROJECT_ROOT = Path.cwd()  # run notebook from repo root if possible\n",
    "RUNS_DIR = PROJECT_ROOT / \"experiments\" / \"runs\"\n",
    "EPISODES_CSV = PROJECT_ROOT / \"episodes.csv\"\n",
    "\n",
    "print(\"Project root:\", PROJECT_ROOT)\n",
    "print(\"Runs dir:\", RUNS_DIR)\n",
    "print(\"Episodes CSV exists:\", EPISODES_CSV.exists())\n",
    "\n",
    "# Matplotlib defaults\n",
    "plt.rcParams[\"figure.figsize\"] = (8, 4.5)\n",
    "plt.rcParams[\"axes.grid\"] = True\n",
    "plt.rcParams[\"axes.spines.top\"] = False\n",
    "plt.rcParams[\"axes.spines.right\"] = False\n"
   ]
  }
 ],
 "metadata": {
  "kernelspec": {
   "display_name": "venv",
   "language": "python",
   "name": "python3"
  },
  "language_info": {
   "codemirror_mode": {
    "name": "ipython",
    "version": 3
   },
   "file_extension": ".py",
   "mimetype": "text/x-python",
   "name": "python",
   "nbconvert_exporter": "python",
   "pygments_lexer": "ipython3",
   "version": "3.10.11"
  }
 },
 "nbformat": 4,
 "nbformat_minor": 5
}
